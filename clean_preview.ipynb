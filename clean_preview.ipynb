{
 "metadata": {
  "language_info": {
   "codemirror_mode": {
    "name": "ipython",
    "version": 3
   },
   "file_extension": ".py",
   "mimetype": "text/x-python",
   "name": "python",
   "nbconvert_exporter": "python",
   "pygments_lexer": "ipython3",
   "version": "3.7.5-final"
  },
  "orig_nbformat": 2,
  "kernelspec": {
   "name": "python37564bitanalyzingcondad74298add46942da9aa9297d069ee2be",
   "display_name": "Python 3.7.5 64-bit ('analyzing': conda)"
  }
 },
 "nbformat": 4,
 "nbformat_minor": 2,
 "cells": [
  {
   "cell_type": "code",
   "execution_count": 1,
   "metadata": {},
   "outputs": [],
   "source": [
    "import pandas as pd\n",
    "import re"
   ]
  },
  {
   "cell_type": "code",
   "execution_count": 2,
   "metadata": {},
   "outputs": [
    {
     "output_type": "execute_result",
     "data": {
      "text/plain": "           id                                               link  \\\n0  1698308935  https://twitter.com/realDonaldTrump/status/169...   \n1  1701461182  https://twitter.com/realDonaldTrump/status/170...   \n2  1737479987  https://twitter.com/realDonaldTrump/status/173...   \n3  1741160716  https://twitter.com/realDonaldTrump/status/174...   \n4  1773561338  https://twitter.com/realDonaldTrump/status/177...   \n5  1776419923  https://twitter.com/realDonaldTrump/status/177...   \n6  1786560616  https://twitter.com/realDonaldTrump/status/178...   \n7  1796477499  https://twitter.com/realDonaldTrump/status/179...   \n8  1806258917  https://twitter.com/realDonaldTrump/status/180...   \n9  1820624395  https://twitter.com/realDonaldTrump/status/182...   \n\n                                             content                 date  \\\n0  Be sure to tune in and watch Donald Trump on L...  2009-05-04 13:54:25   \n1  Donald Trump will be appearing on The View tom...  2009-05-04 20:00:10   \n2  Donald Trump reads Top Ten Financial Tips on L...  2009-05-08 08:38:08   \n3  New Blog Post: Celebrity Apprentice Finale and...  2009-05-08 15:40:15   \n4  &quot;My persona will never be that of a wallflower...  2009-05-12 09:07:28   \n5  Miss USA Tara Conner will not be fired - &quot;I&#39;ve...  2009-05-12 14:21:55   \n6  Listen to an interview with Donald Trump discu...  2009-05-13 12:38:28   \n7  &quot;Strive for wholeness and keep your sense of w...  2009-05-14 11:30:40   \n8  Enter the &quot;Think Like A Champion&quot; signed book ...  2009-05-15 09:13:13   \n9  &quot;When the achiever achieves, it&#39;s not a platea...  2009-05-16 17:22:45   \n\n   retweets  favorites mentions hashtags  \n0       510        917      NaN      NaN  \n1        34        267      NaN      NaN  \n2        13         19      NaN      NaN  \n3        11         26      NaN      NaN  \n4      1375       1945      NaN      NaN  \n5        29         28      NaN      NaN  \n6        15         16      NaN      NaN  \n7        18         27      NaN      NaN  \n8        15          9      NaN      NaN  \n9        19         47      NaN      NaN  ",
      "text/html": "<div>\n<style scoped>\n    .dataframe tbody tr th:only-of-type {\n        vertical-align: middle;\n    }\n\n    .dataframe tbody tr th {\n        vertical-align: top;\n    }\n\n    .dataframe thead th {\n        text-align: right;\n    }\n</style>\n<table border=\"1\" class=\"dataframe\">\n  <thead>\n    <tr style=\"text-align: right;\">\n      <th></th>\n      <th>id</th>\n      <th>link</th>\n      <th>content</th>\n      <th>date</th>\n      <th>retweets</th>\n      <th>favorites</th>\n      <th>mentions</th>\n      <th>hashtags</th>\n    </tr>\n  </thead>\n  <tbody>\n    <tr>\n      <th>0</th>\n      <td>1698308935</td>\n      <td>https://twitter.com/realDonaldTrump/status/169...</td>\n      <td>Be sure to tune in and watch Donald Trump on L...</td>\n      <td>2009-05-04 13:54:25</td>\n      <td>510</td>\n      <td>917</td>\n      <td>NaN</td>\n      <td>NaN</td>\n    </tr>\n    <tr>\n      <th>1</th>\n      <td>1701461182</td>\n      <td>https://twitter.com/realDonaldTrump/status/170...</td>\n      <td>Donald Trump will be appearing on The View tom...</td>\n      <td>2009-05-04 20:00:10</td>\n      <td>34</td>\n      <td>267</td>\n      <td>NaN</td>\n      <td>NaN</td>\n    </tr>\n    <tr>\n      <th>2</th>\n      <td>1737479987</td>\n      <td>https://twitter.com/realDonaldTrump/status/173...</td>\n      <td>Donald Trump reads Top Ten Financial Tips on L...</td>\n      <td>2009-05-08 08:38:08</td>\n      <td>13</td>\n      <td>19</td>\n      <td>NaN</td>\n      <td>NaN</td>\n    </tr>\n    <tr>\n      <th>3</th>\n      <td>1741160716</td>\n      <td>https://twitter.com/realDonaldTrump/status/174...</td>\n      <td>New Blog Post: Celebrity Apprentice Finale and...</td>\n      <td>2009-05-08 15:40:15</td>\n      <td>11</td>\n      <td>26</td>\n      <td>NaN</td>\n      <td>NaN</td>\n    </tr>\n    <tr>\n      <th>4</th>\n      <td>1773561338</td>\n      <td>https://twitter.com/realDonaldTrump/status/177...</td>\n      <td>\"My persona will never be that of a wallflower...</td>\n      <td>2009-05-12 09:07:28</td>\n      <td>1375</td>\n      <td>1945</td>\n      <td>NaN</td>\n      <td>NaN</td>\n    </tr>\n    <tr>\n      <th>5</th>\n      <td>1776419923</td>\n      <td>https://twitter.com/realDonaldTrump/status/177...</td>\n      <td>Miss USA Tara Conner will not be fired - \"I've...</td>\n      <td>2009-05-12 14:21:55</td>\n      <td>29</td>\n      <td>28</td>\n      <td>NaN</td>\n      <td>NaN</td>\n    </tr>\n    <tr>\n      <th>6</th>\n      <td>1786560616</td>\n      <td>https://twitter.com/realDonaldTrump/status/178...</td>\n      <td>Listen to an interview with Donald Trump discu...</td>\n      <td>2009-05-13 12:38:28</td>\n      <td>15</td>\n      <td>16</td>\n      <td>NaN</td>\n      <td>NaN</td>\n    </tr>\n    <tr>\n      <th>7</th>\n      <td>1796477499</td>\n      <td>https://twitter.com/realDonaldTrump/status/179...</td>\n      <td>\"Strive for wholeness and keep your sense of w...</td>\n      <td>2009-05-14 11:30:40</td>\n      <td>18</td>\n      <td>27</td>\n      <td>NaN</td>\n      <td>NaN</td>\n    </tr>\n    <tr>\n      <th>8</th>\n      <td>1806258917</td>\n      <td>https://twitter.com/realDonaldTrump/status/180...</td>\n      <td>Enter the \"Think Like A Champion\" signed book ...</td>\n      <td>2009-05-15 09:13:13</td>\n      <td>15</td>\n      <td>9</td>\n      <td>NaN</td>\n      <td>NaN</td>\n    </tr>\n    <tr>\n      <th>9</th>\n      <td>1820624395</td>\n      <td>https://twitter.com/realDonaldTrump/status/182...</td>\n      <td>\"When the achiever achieves, it's not a platea...</td>\n      <td>2009-05-16 17:22:45</td>\n      <td>19</td>\n      <td>47</td>\n      <td>NaN</td>\n      <td>NaN</td>\n    </tr>\n  </tbody>\n</table>\n</div>"
     },
     "metadata": {},
     "execution_count": 2
    }
   ],
   "source": [
    "file_csv = pd.read_csv('realdonaldtrump.csv')\n",
    "file_csv.head(10)"
   ]
  },
  {
   "cell_type": "code",
   "execution_count": 3,
   "metadata": {},
   "outputs": [
    {
     "output_type": "execute_result",
     "data": {
      "text/plain": "(43352, 8)"
     },
     "metadata": {},
     "execution_count": 3
    }
   ],
   "source": [
    "file_csv.shape"
   ]
  },
  {
   "source": [
    "Only content column is need to do sentiment analyze."
   ],
   "cell_type": "markdown",
   "metadata": {}
  },
  {
   "cell_type": "code",
   "execution_count": 4,
   "metadata": {},
   "outputs": [],
   "source": [
    "trump_tweet = file_csv['content']"
   ]
  },
  {
   "source": [
    "Figure out if the original dataset is clean or not, i.e. @ or links inside it"
   ],
   "cell_type": "markdown",
   "metadata": {}
  },
  {
   "cell_type": "code",
   "execution_count": 5,
   "metadata": {
    "tags": []
   },
   "outputs": [
    {
     "output_type": "stream",
     "name": "stdout",
     "text": "Special content http found in dataset\nSpecial content @ found in dataset\n"
    }
   ],
   "source": [
    "special_set = set(['http', '@'])\n",
    "walked = set()\n",
    "for each_tweet in trump_tweet:\n",
    "    for item in special_set:\n",
    "        if item in each_tweet and item not in walked:\n",
    "            walked.add(item)\n",
    "            print('Special content ' + item + ' found in dataset')\n",
    "    if walked == special_set:\n",
    "        break"
   ]
  },
  {
   "source": [
    "So it is clear that the original dataset is not clean enough, we need too get rid of those annoying items."
   ],
   "cell_type": "markdown",
   "metadata": {}
  },
  {
   "cell_type": "code",
   "execution_count": 9,
   "metadata": {},
   "outputs": [],
   "source": [
    "url = re.compile(r'(https?|ftp|file)://[-A-Za-z0-9+&@#/%?=~_|!:,.;]+[-A-Za-z0-9+&@#/%=~_|]')\n",
    "symbs = set(['#', '.', '!', '@', '|', '(', ')', '?', ',', '\\\"', '\\'', '-', ':'])\n",
    "# & is and, a stop word. so we can just delete it rather than replace it with 'and'\n",
    "    # also delete his name after analyzing\n",
    "special = ['&', 'Donald J. Trump']"
   ]
  },
  {
   "source": [
    "We found there are lots of \"--Donald J. Trump\" in the content so we can show how narcissistic Trump is.\n",
    "This kind of text needs to be analyze before regulization(i.e. make all letters to lowercase) because the word trump might not be that person Donald Trump. Trump with capital letter always means a person. "
   ],
   "cell_type": "markdown",
   "metadata": {}
  },
  {
   "cell_type": "code",
   "execution_count": 14,
   "metadata": {
    "tags": []
   },
   "outputs": [
    {
     "output_type": "stream",
     "name": "stdout",
     "text": "112 posts in Trump&#39;s tweet looks like a quotation\nHe mentioned himself for 13736 times\n31.68% of Trump&#39;s treet mentioned himself\nThe narcissism rate of his tweet is 0.26%\n"
    }
   ],
   "source": [
    "data = []\n",
    "narcissism = 0\n",
    "special_narcissism = 0\n",
    "for each_tweet in trump_tweet:\n",
    "    # delete url+\n",
    "    tweet = re.sub(url,'', each_tweet)\n",
    "    if \"Trump\" in tweet:\n",
    "        narcissism += 1\n",
    "    if \"Donald J. Trump\" in tweet:\n",
    "        special_narcissism += 1\n",
    "    for item in special:\n",
    "        tweet = tweet.replace(item, '')\n",
    "    # replace symbols\n",
    "    for symb in symbs:\n",
    "        tweet = tweet.replace(symb, ' ')\n",
    "    # delete extra spaces inside content\n",
    "    tweet = re.sub(' +', ' ', tweet)\n",
    "    # deletee spaces in head/end of the\n",
    "    tweet = tweet.strip()\n",
    "    tweet = tweet.lower()\n",
    "    data.append(tweet)\n",
    "mention_rate = narcissism/len(data)\n",
    "narcissism_rate = special_narcissism/len(data)\n",
    "\n",
    "print(str(special_narcissism) + \" posts in Trump\\'s tweet looks like a quotation\")\n",
    "print(\"He mentioned himself for \" + str(narcissism) + \" times\")\n",
    "print(str(round(mention_rate * 100, 2)) + \"% of Trump's treet mentioned himself\")\n",
    "print(\"The narcissism rate of his tweet is \" + str(round(narcissism_rate*100, 2)) + '%')"
   ]
  },
  {
   "cell_type": "code",
   "execution_count": 20,
   "metadata": {
    "tags": []
   },
   "outputs": [],
   "source": [
    "import nltk\n",
    "import os"
   ]
  },
  {
   "cell_type": "code",
   "execution_count": 28,
   "metadata": {
    "tags": []
   },
   "outputs": [
    {
     "output_type": "stream",
     "name": "stderr",
     "text": "[nltk_data] Error loading stopwords: &lt;urlopen error unknown url type:\n[nltk_data]     https&gt;\n"
    },
    {
     "output_type": "execute_result",
     "data": {
      "text/plain": "False"
     },
     "metadata": {},
     "execution_count": 28
    }
   ],
   "source": [
    "if not os.path.exists('./nltk_words'):\n",
    "    os.mkdir('./nltk_words')\n",
    "nltk.download('stopwords',download_dir = './nltk_words')"
   ]
  },
  {
   "source": [
    "I got an error in Windows anaconda environment in China. \n",
    "\n",
    "SSL is already installed in that virtual env so maybe something wrong happen due to the network condition between China and the server. I download nltk data files manully through browser and put them in path `./nltk_words`"
   ],
   "cell_type": "markdown",
   "metadata": {
    "tags": []
   }
  },
  {
   "cell_type": "code",
   "execution_count": null,
   "metadata": {},
   "outputs": [],
   "source": []
  }
 ]
}